{
  "nbformat": 4,
  "nbformat_minor": 0,
  "metadata": {
    "colab": {
      "provenance": [],
      "authorship_tag": "ABX9TyN2StHSzFo9/Mn0IVi6dJ7T",
      "include_colab_link": true
    },
    "kernelspec": {
      "name": "python3",
      "display_name": "Python 3"
    },
    "language_info": {
      "name": "python"
    }
  },
  "cells": [
    {
      "cell_type": "markdown",
      "metadata": {
        "id": "view-in-github",
        "colab_type": "text"
      },
      "source": [
        "<a href=\"https://colab.research.google.com/github/ds2025-col/ooptask1/blob/main/ooptask1.ipynb\" target=\"_parent\"><img src=\"https://colab.research.google.com/assets/colab-badge.svg\" alt=\"Open In Colab\"/></a>"
      ]
    },
    {
      "cell_type": "code",
      "execution_count": 11,
      "metadata": {
        "colab": {
          "base_uri": "https://localhost:8080/"
        },
        "id": "g4ZH926es7rG",
        "outputId": "6a3588cc-1ee8-4936-a478-56d640c46aa1"
      },
      "outputs": [
        {
          "output_type": "stream",
          "name": "stdout",
          "text": [
            "arya\n",
            "maths\n"
          ]
        }
      ],
      "source": [
        "#single inheritance\n",
        "\n",
        "class students():\n",
        "  def __init__(self,name,subject,rollno):\n",
        "    self.n=name\n",
        "    self.sub=subject\n",
        "    self.rn=rollno\n",
        "class student1(students):\n",
        "  def __init__(self,name,subject,rollno,sid):\n",
        "    self.n=name\n",
        "    self.sub=subject\n",
        "    self.rn=rollno\n",
        "    self.id=sid\n",
        "sdt1=students('arya','maths',22)\n",
        "print(sdt1.n)\n",
        "print(sdt1.sub)\n",
        "\n",
        "\n"
      ]
    },
    {
      "cell_type": "code",
      "source": [
        "#multilevel inheritance\n",
        "\n",
        "class students():\n",
        "  def __init__(self,name,subject,rollno):\n",
        "    self.n=name\n",
        "    self.sub=subject\n",
        "    self.rn=rollno\n",
        "class student1(students):\n",
        "  def __init__(self, name, subject, rollno,mark):\n",
        "    self.n=name\n",
        "    self.sub=subject\n",
        "    self.rn=rollno\n",
        "    self.m=mark\n",
        "class sdetails(student1):\n",
        "  def __init__(self, name, subject, rollno, mark):\n",
        "    self.n=name\n",
        "    self.sub=subject\n",
        "    self.rn=rollno\n",
        "    self.m=mark\n",
        "sdt1=students('arya','maths',20)\n",
        "sdtl=student1('arya','maths',20,90)\n",
        "print(sdt1.n)\n",
        "print(sdtl.m)"
      ],
      "metadata": {
        "colab": {
          "base_uri": "https://localhost:8080/"
        },
        "id": "0K0PELLM10TY",
        "outputId": "d3dc1fab-9afa-4cd8-c328-1d67c85f1ce3"
      },
      "execution_count": 12,
      "outputs": [
        {
          "output_type": "stream",
          "name": "stdout",
          "text": [
            "arya\n",
            "90\n"
          ]
        }
      ]
    },
    {
      "cell_type": "code",
      "source": [],
      "metadata": {
        "id": "FzLxNt6w5B5b"
      },
      "execution_count": null,
      "outputs": []
    },
    {
      "cell_type": "code",
      "source": [
        "#hierachial inheritance\n",
        "\n",
        "class students():\n",
        "  def __init__(self,name,subject,rollno):\n",
        "    self.n=name\n",
        "    self.sub=subject\n",
        "    self.rn=rollno\n",
        "class student1(students):\n",
        "  def __init__(self, name, subject, rollno):\n",
        "     self.n=name\n",
        "     self.sub=subject\n",
        "     self.rn=rollno\n",
        "class student2(students):\n",
        "  def __init__(self, name, subject, rollno):\n",
        "    self.n=name\n",
        "    self.sub=subject\n",
        "    self.rn=rollno\n",
        "sdt1=students('ann','biology',11)\n",
        "sdt2=students('sam','malayalam',3)\n",
        "print(sdt1.sub,sdt1.n)\n",
        "print(sdt2.n ,sdt2.sub ,sdt2.rn)\n"
      ],
      "metadata": {
        "colab": {
          "base_uri": "https://localhost:8080/"
        },
        "id": "OBAlfbwR4xIu",
        "outputId": "ea0e0e19-7ed6-477d-e626-401ef4f5e8cf"
      },
      "execution_count": 14,
      "outputs": [
        {
          "output_type": "stream",
          "name": "stdout",
          "text": [
            "biology ann\n",
            "sam malayalam 3\n"
          ]
        }
      ]
    },
    {
      "cell_type": "code",
      "source": [
        "#multiple inheritance\n",
        "\n",
        "class collage():\n",
        "  def __init__(self,courses,fees,batch):\n",
        "    self.c=courses\n",
        "    self.f=fees\n",
        "    self.b=batch\n",
        "class courses():\n",
        "  def __init__(self,courses,name,subject,hod,batch):\n",
        "    self.c=courses\n",
        "    self.name=name\n",
        "    self.sub=subject\n",
        "    self.h=hod\n",
        "    self.b=batch\n",
        "class students(collage,courses):\n",
        "  def __init__(self,name,courses,fees,hod,batch,subject):\n",
        "    self.name=name\n",
        "    self.c=courses\n",
        "    self.f=fees\n",
        "    self.h=hod\n",
        "    self.b=batch\n",
        "    self.sub=subject\n",
        "std1=collage('bca',50000,2025)\n",
        "std1=students('arya','bca',50000,'anil',2025,'andriod')\n",
        "print(std1.h,std1.c,std1.sub)\n",
        ""
      ],
      "metadata": {
        "colab": {
          "base_uri": "https://localhost:8080/"
        },
        "id": "jLtg4dg673oX",
        "outputId": "67756671-d4e0-44f5-91e0-ae34eab6df1e"
      },
      "execution_count": 19,
      "outputs": [
        {
          "output_type": "stream",
          "name": "stdout",
          "text": [
            "anil bca andriod\n"
          ]
        }
      ]
    }
  ]
}